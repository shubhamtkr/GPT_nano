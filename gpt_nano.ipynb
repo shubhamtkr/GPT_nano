{
  "nbformat": 4,
  "nbformat_minor": 0,
  "metadata": {
    "colab": {
      "provenance": []
    },
    "kernelspec": {
      "name": "python3",
      "display_name": "Python 3"
    },
    "language_info": {
      "name": "python"
    }
  },
  "cells": [
    {
      "cell_type": "code",
      "execution_count": null,
      "metadata": {
        "id": "5r0o0bs6Ff7c"
      },
      "outputs": [],
      "source": [
        "import torch\n",
        "import torch.nn as nn\n",
        "from torch.nn import functional as F"
      ]
    },
    {
      "cell_type": "code",
      "source": [
        "\n",
        "batch_size = 16\n",
        "block_size = 32\n",
        "max_iters = 5000\n",
        "eval_interval = 100\n",
        "learning_rate = 1e-3\n",
        "device = 'cuda' if torch.cuda.is_available() else 'cpu'\n",
        "eval_iters = 200\n",
        "n_embd = 64\n",
        "n_head = 4\n",
        "n_layer = 4\n",
        "dropout = 0.0"
      ],
      "metadata": {
        "id": "lqj8AbrFFjxI"
      },
      "execution_count": null,
      "outputs": []
    },
    {
      "cell_type": "code",
      "source": [
        "torch.manual_seed(1337)\n",
        "\n",
        "!wget https://raw.githubusercontent.com/karpathy/char-rnn/master/data/tinyshakespeare/input.txt\n",
        "with open('input.txt', 'r', encoding='utf-8') as f:\n",
        "  text = f.read()"
      ],
      "metadata": {
        "colab": {
          "base_uri": "https://localhost:8080/"
        },
        "id": "NLTcyI4JFrnF",
        "outputId": "20383501-e885-41ab-ecc1-bf438fdaf9e9"
      },
      "execution_count": null,
      "outputs": [
        {
          "output_type": "stream",
          "name": "stdout",
          "text": [
            "--2023-12-13 02:53:02--  https://raw.githubusercontent.com/karpathy/char-rnn/master/data/tinyshakespeare/input.txt\n",
            "Resolving raw.githubusercontent.com (raw.githubusercontent.com)... 185.199.111.133, 185.199.108.133, 185.199.110.133, ...\n",
            "Connecting to raw.githubusercontent.com (raw.githubusercontent.com)|185.199.111.133|:443... connected.\n",
            "HTTP request sent, awaiting response... 200 OK\n",
            "Length: 1115394 (1.1M) [text/plain]\n",
            "Saving to: ‘input.txt’\n",
            "\n",
            "\rinput.txt             0%[                    ]       0  --.-KB/s               \rinput.txt           100%[===================>]   1.06M  --.-KB/s    in 0.08s   \n",
            "\n",
            "2023-12-13 02:53:02 (13.3 MB/s) - ‘input.txt’ saved [1115394/1115394]\n",
            "\n"
          ]
        }
      ]
    },
    {
      "cell_type": "code",
      "source": [
        "chars = sorted(list(set(text)))\n",
        "vocab_size = len(chars)"
      ],
      "metadata": {
        "id": "M6whceASFwOb"
      },
      "execution_count": null,
      "outputs": []
    },
    {
      "cell_type": "code",
      "source": [
        "\n",
        "stoi = { ch:i for i,ch in enumerate(chars) }\n",
        "itos = { i:ch for i,ch in enumerate(chars) }\n",
        "encode = lambda s: [stoi[c] for c in s]\n",
        "decode = lambda l: ''.join([itos[i] for i in l])\n",
        "\n",
        "print(encode(\"hii there\"))\n",
        "print(decode(encode(\"hii there\")))"
      ],
      "metadata": {
        "colab": {
          "base_uri": "https://localhost:8080/"
        },
        "id": "-lTjHZqhF8nq",
        "outputId": "5d9820b9-fbc2-4924-f203-300617beedbb"
      },
      "execution_count": null,
      "outputs": [
        {
          "output_type": "stream",
          "name": "stdout",
          "text": [
            "[46, 47, 47, 1, 58, 46, 43, 56, 43]\n",
            "hii there\n"
          ]
        }
      ]
    },
    {
      "cell_type": "code",
      "source": [
        "\n",
        "import torch # we use PyTorch: https://pytorch.org\n",
        "data = torch.tensor(encode(text), dtype=torch.long)\n",
        "print(data.shape, data.dtype)\n",
        "print(data[:1000])"
      ],
      "metadata": {
        "colab": {
          "base_uri": "https://localhost:8080/"
        },
        "id": "uIX990H3F_Zt",
        "outputId": "e86454c6-9ce2-4052-db80-b909b132ff24"
      },
      "execution_count": null,
      "outputs": [
        {
          "output_type": "stream",
          "name": "stdout",
          "text": [
            "torch.Size([1115394]) torch.int64\n",
            "tensor([18, 47, 56, 57, 58,  1, 15, 47, 58, 47, 64, 43, 52, 10,  0, 14, 43, 44,\n",
            "        53, 56, 43,  1, 61, 43,  1, 54, 56, 53, 41, 43, 43, 42,  1, 39, 52, 63,\n",
            "         1, 44, 59, 56, 58, 46, 43, 56,  6,  1, 46, 43, 39, 56,  1, 51, 43,  1,\n",
            "        57, 54, 43, 39, 49,  8,  0,  0, 13, 50, 50, 10,  0, 31, 54, 43, 39, 49,\n",
            "         6,  1, 57, 54, 43, 39, 49,  8,  0,  0, 18, 47, 56, 57, 58,  1, 15, 47,\n",
            "        58, 47, 64, 43, 52, 10,  0, 37, 53, 59,  1, 39, 56, 43,  1, 39, 50, 50,\n",
            "         1, 56, 43, 57, 53, 50, 60, 43, 42,  1, 56, 39, 58, 46, 43, 56,  1, 58,\n",
            "        53,  1, 42, 47, 43,  1, 58, 46, 39, 52,  1, 58, 53,  1, 44, 39, 51, 47,\n",
            "        57, 46, 12,  0,  0, 13, 50, 50, 10,  0, 30, 43, 57, 53, 50, 60, 43, 42,\n",
            "         8,  1, 56, 43, 57, 53, 50, 60, 43, 42,  8,  0,  0, 18, 47, 56, 57, 58,\n",
            "         1, 15, 47, 58, 47, 64, 43, 52, 10,  0, 18, 47, 56, 57, 58,  6,  1, 63,\n",
            "        53, 59,  1, 49, 52, 53, 61,  1, 15, 39, 47, 59, 57,  1, 25, 39, 56, 41,\n",
            "        47, 59, 57,  1, 47, 57,  1, 41, 46, 47, 43, 44,  1, 43, 52, 43, 51, 63,\n",
            "         1, 58, 53,  1, 58, 46, 43,  1, 54, 43, 53, 54, 50, 43,  8,  0,  0, 13,\n",
            "        50, 50, 10,  0, 35, 43,  1, 49, 52, 53, 61,  5, 58,  6,  1, 61, 43,  1,\n",
            "        49, 52, 53, 61,  5, 58,  8,  0,  0, 18, 47, 56, 57, 58,  1, 15, 47, 58,\n",
            "        47, 64, 43, 52, 10,  0, 24, 43, 58,  1, 59, 57,  1, 49, 47, 50, 50,  1,\n",
            "        46, 47, 51,  6,  1, 39, 52, 42,  1, 61, 43,  5, 50, 50,  1, 46, 39, 60,\n",
            "        43,  1, 41, 53, 56, 52,  1, 39, 58,  1, 53, 59, 56,  1, 53, 61, 52,  1,\n",
            "        54, 56, 47, 41, 43,  8,  0, 21, 57,  5, 58,  1, 39,  1, 60, 43, 56, 42,\n",
            "        47, 41, 58, 12,  0,  0, 13, 50, 50, 10,  0, 26, 53,  1, 51, 53, 56, 43,\n",
            "         1, 58, 39, 50, 49, 47, 52, 45,  1, 53, 52,  5, 58, 11,  1, 50, 43, 58,\n",
            "         1, 47, 58,  1, 40, 43,  1, 42, 53, 52, 43, 10,  1, 39, 61, 39, 63,  6,\n",
            "         1, 39, 61, 39, 63,  2,  0,  0, 31, 43, 41, 53, 52, 42,  1, 15, 47, 58,\n",
            "        47, 64, 43, 52, 10,  0, 27, 52, 43,  1, 61, 53, 56, 42,  6,  1, 45, 53,\n",
            "        53, 42,  1, 41, 47, 58, 47, 64, 43, 52, 57,  8,  0,  0, 18, 47, 56, 57,\n",
            "        58,  1, 15, 47, 58, 47, 64, 43, 52, 10,  0, 35, 43,  1, 39, 56, 43,  1,\n",
            "        39, 41, 41, 53, 59, 52, 58, 43, 42,  1, 54, 53, 53, 56,  1, 41, 47, 58,\n",
            "        47, 64, 43, 52, 57,  6,  1, 58, 46, 43,  1, 54, 39, 58, 56, 47, 41, 47,\n",
            "        39, 52, 57,  1, 45, 53, 53, 42,  8,  0, 35, 46, 39, 58,  1, 39, 59, 58,\n",
            "        46, 53, 56, 47, 58, 63,  1, 57, 59, 56, 44, 43, 47, 58, 57,  1, 53, 52,\n",
            "         1, 61, 53, 59, 50, 42,  1, 56, 43, 50, 47, 43, 60, 43,  1, 59, 57, 10,\n",
            "         1, 47, 44,  1, 58, 46, 43, 63,  0, 61, 53, 59, 50, 42,  1, 63, 47, 43,\n",
            "        50, 42,  1, 59, 57,  1, 40, 59, 58,  1, 58, 46, 43,  1, 57, 59, 54, 43,\n",
            "        56, 44, 50, 59, 47, 58, 63,  6,  1, 61, 46, 47, 50, 43,  1, 47, 58,  1,\n",
            "        61, 43, 56, 43,  0, 61, 46, 53, 50, 43, 57, 53, 51, 43,  6,  1, 61, 43,\n",
            "         1, 51, 47, 45, 46, 58,  1, 45, 59, 43, 57, 57,  1, 58, 46, 43, 63,  1,\n",
            "        56, 43, 50, 47, 43, 60, 43, 42,  1, 59, 57,  1, 46, 59, 51, 39, 52, 43,\n",
            "        50, 63, 11,  0, 40, 59, 58,  1, 58, 46, 43, 63,  1, 58, 46, 47, 52, 49,\n",
            "         1, 61, 43,  1, 39, 56, 43,  1, 58, 53, 53,  1, 42, 43, 39, 56, 10,  1,\n",
            "        58, 46, 43,  1, 50, 43, 39, 52, 52, 43, 57, 57,  1, 58, 46, 39, 58,  0,\n",
            "        39, 44, 44, 50, 47, 41, 58, 57,  1, 59, 57,  6,  1, 58, 46, 43,  1, 53,\n",
            "        40, 48, 43, 41, 58,  1, 53, 44,  1, 53, 59, 56,  1, 51, 47, 57, 43, 56,\n",
            "        63,  6,  1, 47, 57,  1, 39, 57,  1, 39, 52,  0, 47, 52, 60, 43, 52, 58,\n",
            "        53, 56, 63,  1, 58, 53,  1, 54, 39, 56, 58, 47, 41, 59, 50, 39, 56, 47,\n",
            "        57, 43,  1, 58, 46, 43, 47, 56,  1, 39, 40, 59, 52, 42, 39, 52, 41, 43,\n",
            "        11,  1, 53, 59, 56,  0, 57, 59, 44, 44, 43, 56, 39, 52, 41, 43,  1, 47,\n",
            "        57,  1, 39,  1, 45, 39, 47, 52,  1, 58, 53,  1, 58, 46, 43, 51,  1, 24,\n",
            "        43, 58,  1, 59, 57,  1, 56, 43, 60, 43, 52, 45, 43,  1, 58, 46, 47, 57,\n",
            "         1, 61, 47, 58, 46,  0, 53, 59, 56,  1, 54, 47, 49, 43, 57,  6,  1, 43,\n",
            "        56, 43,  1, 61, 43,  1, 40, 43, 41, 53, 51, 43,  1, 56, 39, 49, 43, 57,\n",
            "        10,  1, 44, 53, 56,  1, 58, 46, 43,  1, 45, 53, 42, 57,  1, 49, 52, 53,\n",
            "        61,  1, 21,  0, 57, 54, 43, 39, 49,  1, 58, 46, 47, 57,  1, 47, 52,  1,\n",
            "        46, 59, 52, 45, 43, 56,  1, 44, 53, 56,  1, 40, 56, 43, 39, 42,  6,  1,\n",
            "        52, 53, 58,  1, 47, 52,  1, 58, 46, 47, 56, 57, 58,  1, 44, 53, 56,  1,\n",
            "        56, 43, 60, 43, 52, 45, 43,  8,  0,  0])\n"
          ]
        }
      ]
    },
    {
      "cell_type": "code",
      "source": [
        "\n",
        "n = int(0.9*len(data))\n",
        "train_data = data[:n]\n",
        "val_data = data[n:]\n",
        "block_size = 8\n",
        "train_data[:block_size+1]\n",
        "x = train_data[:block_size]\n",
        "y = train_data[1:block_size+1]\n",
        "for t in range(block_size):\n",
        "  context = x[:t+1]\n",
        "  target = y[t]\n",
        "print(f\"when input is {context} the target: {target}\")"
      ],
      "metadata": {
        "colab": {
          "base_uri": "https://localhost:8080/"
        },
        "id": "ltWY4abFGK_K",
        "outputId": "3efc517d-3b2d-4c22-f987-c8356a671229"
      },
      "execution_count": null,
      "outputs": [
        {
          "output_type": "stream",
          "name": "stdout",
          "text": [
            "when input is tensor([18, 47, 56, 57, 58,  1, 15, 47]) the target: 58\n"
          ]
        }
      ]
    },
    {
      "cell_type": "code",
      "source": [
        "torch.manual_seed(1337)\n",
        "batch_size = 4\n",
        "block_size = 8\n",
        "\n",
        "def get_batch(split):\n",
        "\n",
        "  data = train_data if split == 'train' else val_data\n",
        "  ix = torch.randint(len(data) - block_size, (batch_size,))\n",
        "  x = torch.stack([data[i:i+block_size] for i in ix])\n",
        "  y = torch.stack([data[i+1:i+block_size+1] for i in ix])\n",
        "  return x, y\n",
        "\n",
        "xb, yb = get_batch('train')\n",
        "print('inputs:')\n",
        "print(xb.shape)\n",
        "print(xb)\n",
        "print('targets:')\n",
        "print(yb.shape)\n",
        "print(yb)\n",
        "\n",
        "print('----')\n",
        "\n",
        "for b in range(batch_size): # batch dimension\n",
        "  for t in range(block_size): # time dimension\n",
        "    context = xb[b, :t+1]\n",
        "    target = yb[b,t]\n",
        "print(f\"when input is {context.tolist()} the target: {target}\")"
      ],
      "metadata": {
        "colab": {
          "base_uri": "https://localhost:8080/"
        },
        "id": "pnbzCKctGOa8",
        "outputId": "3ebd8cf7-6160-4686-e63e-07e89aefae5f"
      },
      "execution_count": null,
      "outputs": [
        {
          "output_type": "stream",
          "name": "stdout",
          "text": [
            "inputs:\n",
            "torch.Size([4, 8])\n",
            "tensor([[24, 43, 58,  5, 57,  1, 46, 43],\n",
            "        [44, 53, 56,  1, 58, 46, 39, 58],\n",
            "        [52, 58,  1, 58, 46, 39, 58,  1],\n",
            "        [25, 17, 27, 10,  0, 21,  1, 54]])\n",
            "targets:\n",
            "torch.Size([4, 8])\n",
            "tensor([[43, 58,  5, 57,  1, 46, 43, 39],\n",
            "        [53, 56,  1, 58, 46, 39, 58,  1],\n",
            "        [58,  1, 58, 46, 39, 58,  1, 46],\n",
            "        [17, 27, 10,  0, 21,  1, 54, 39]])\n",
            "----\n",
            "when input is [25, 17, 27, 10, 0, 21, 1, 54] the target: 39\n"
          ]
        }
      ]
    },
    {
      "cell_type": "code",
      "source": [
        "@torch.no_grad()\n",
        "def estimate_loss():\n",
        "  out = {}\n",
        "  model.eval()\n",
        "  for split in ['train', 'val']:\n",
        "    losses = torch.zeros(eval_iters)\n",
        "    for k in range(eval_iters):\n",
        "      X, Y = get_batch(split)\n",
        "      logits, loss = model(X, Y)\n",
        "      losses[k] = loss.item()\n",
        "      out[split] = losses.mean()\n",
        "      model.train()\n",
        "  return out"
      ],
      "metadata": {
        "id": "giRkBJLhGgJ8"
      },
      "execution_count": null,
      "outputs": []
    },
    {
      "cell_type": "code",
      "source": [
        "class Head(nn.Module):\n",
        "\n",
        "\n",
        "  def __init__(self, head_size):\n",
        "    super().__init__()\n",
        "    self.key = nn.Linear(n_embd, head_size, bias=False)\n",
        "    self.query = nn.Linear(n_embd, head_size, bias=False)\n",
        "    self.value = nn.Linear(n_embd, head_size, bias=False)\n",
        "    self.register_buffer('tril', torch.tril(torch.ones(block_size, block_size)))\n",
        "\n",
        "    self.dropout = nn.Dropout(dropout)\n",
        "\n",
        "  def forward(self, x):\n",
        "    B,T,C = x.shape\n",
        "    k = self.key(x) # (B,T,C)\n",
        "    q = self.query(x) # (B,T,C)\n",
        "    # compute attention scores (\"affinities\")\n",
        "    wei = q @ k.transpose(-2,-1) * C**-0.5 # (B, T, C) @ (B, C, T) -> (B, T, T)\n",
        "    wei = wei.masked_fill(self.tril[:T, :T] == 0, float('-inf')) # (B, T, T)\n",
        "    wei = F.softmax(wei, dim=-1) # (B, T, T)\n",
        "    wei = self.dropout(wei)\n",
        "    # perform the weighted aggregation of the values\n",
        "    v = self.value(x) # (B,T,C)\n",
        "    out = wei @ v # (B, T, T) @ (B, T, C) -> (B, T, C)\n",
        "    return out"
      ],
      "metadata": {
        "id": "6aPf0d04Gw7U"
      },
      "execution_count": null,
      "outputs": []
    },
    {
      "cell_type": "markdown",
      "source": [
        "\"\"\" multiple heads of self-attention in parallel \"\"\"\n"
      ],
      "metadata": {
        "id": "sHP3StteHW-7"
      }
    },
    {
      "cell_type": "code",
      "source": [
        "class MultiHeadAttention(nn.Module):\n",
        "\n",
        "\n",
        "  def __init__(self, num_heads, head_size):\n",
        "    super().__init__()\n",
        "    self.heads = nn.ModuleList([Head(head_size) for _ in range(num_heads)])\n",
        "    self.proj = nn.Linear(n_embd, n_embd)\n",
        "    self.dropout = nn.Dropout(dropout)\n",
        "\n",
        "  def forward(self, x):\n",
        "    out = torch.cat([h(x) for h in self.heads], dim=-1)\n",
        "    out = self.dropout(self.proj(out))\n",
        "    return out"
      ],
      "metadata": {
        "id": "Y3-XgQINHTHP"
      },
      "execution_count": null,
      "outputs": []
    },
    {
      "cell_type": "markdown",
      "source": [
        "\"\"\" a simple linear layer followed by a non-linearity \"\"\""
      ],
      "metadata": {
        "id": "a3AnwFMwHnp_"
      }
    },
    {
      "cell_type": "code",
      "source": [
        "class FeedFoward(nn.Module):\n",
        "\n",
        "\n",
        "  def __init__(self, n_embd):\n",
        "    super().__init__()\n",
        "    self.net = nn.Sequential(\n",
        "    nn.Linear(n_embd, 4 * n_embd),\n",
        "    nn.ReLU(),\n",
        "    nn.Linear(4 * n_embd, n_embd),\n",
        "    nn.Dropout(dropout),\n",
        "    )\n",
        "\n",
        "  def forward(self, x):\n",
        "    return self.net(x)\n",
        "\n"
      ],
      "metadata": {
        "id": "leAADftzHmEN"
      },
      "execution_count": null,
      "outputs": []
    },
    {
      "cell_type": "code",
      "source": [],
      "metadata": {
        "id": "2c2C0MgVHx7T"
      },
      "execution_count": null,
      "outputs": []
    },
    {
      "cell_type": "markdown",
      "source": [
        "\"\"\" Transformer block: communication followed by computation \"\"\""
      ],
      "metadata": {
        "id": "qhnGKgmGHxp4"
      }
    },
    {
      "cell_type": "code",
      "source": [
        "class Block(nn.Module):\n",
        "\n",
        "\n",
        "  def __init__(self, n_embd, n_head):\n",
        "\n",
        "    super().__init__()\n",
        "    head_size = n_embd // n_head\n",
        "    self.sa = MultiHeadAttention(n_head, head_size)\n",
        "    self.ffwd = FeedFoward(n_embd)\n",
        "    self.ln1 = nn.LayerNorm(n_embd)\n",
        "    self.ln2 = nn.LayerNorm(n_embd)\n",
        "\n",
        "  def forward(self, x):\n",
        "    x = x + self.sa(self.ln1(x))\n",
        "    x = x + self.ffwd(self.ln2(x))\n",
        "    return x"
      ],
      "metadata": {
        "id": "yeyiVeaNHyr8"
      },
      "execution_count": null,
      "outputs": []
    },
    {
      "cell_type": "markdown",
      "source": [],
      "metadata": {
        "id": "F2hU2I5cICyO"
      }
    },
    {
      "cell_type": "code",
      "source": [
        "\n",
        "\n",
        "class BigramLanguageModel(nn.Module):\n",
        "  def __init__(self):\n",
        "    super().__init__()\n",
        "\n",
        "    self.token_embedding_table = nn.Embedding(vocab_size, n_embd)\n",
        "    self.position_embedding_table = nn.Embedding(block_size, n_embd)\n",
        "    self.blocks = nn.Sequential(*[Block(n_embd, n_head=n_head) for _ in range(n_layer)])\n",
        "    self.ln_f = nn.LayerNorm(n_embd)\n",
        "    self.lm_head = nn.Linear(n_embd, vocab_size)\n",
        "\n",
        "  def forward(self, idx, targets=None):\n",
        "    B, T = idx.shape\n",
        "    # idx and targets are both (B,T) tensor of integers\n",
        "    tok_emb = self.token_embedding_table(idx) # (B,T,C)\n",
        "    pos_emb = self.position_embedding_table(torch.arange(T, device=device)) # (T,C)\n",
        "    x = tok_emb + pos_emb # (B,T,C)\n",
        "    x = self.blocks(x) # (B,T,C)\n",
        "    x = self.ln_f(x) # (B,T,C)\n",
        "    logits = self.lm_head(x) # (B,T,vocab_size)\n",
        "    if targets is None:\n",
        "     loss = None\n",
        "    else:\n",
        "      B, T, C = logits.shape\n",
        "      logits = logits.view(B*T, C)\n",
        "      targets = targets.view(B*T)\n",
        "      loss = F.cross_entropy(logits, targets)\n",
        "    return logits, loss\n",
        "\n",
        "  def generate(self, idx, max_new_tokens):\n",
        "    for _ in range(max_new_tokens):  # idx is (B, T) array of indices in the current context\n",
        "      idx_cond = idx[:, -block_size:]# crop idx to the last block_size tokens\n",
        "      logits, loss = self(idx_cond)# get the predictions\n",
        "      logits = logits[:, -1, :] # becomes (B, C)# focus only on the last time step\n",
        "      probs = F.softmax(logits, dim=-1) # (B, C)  # apply softmax to get probabilities\n",
        "      idx_next = torch.multinomial(probs, num_samples=1) # (B, 1)    # sample from the distribution\n",
        "      idx = torch.cat((idx, idx_next), dim=1) # (B, T+1) # append sampled index to the running sequence\n",
        "    return idx\n",
        "\n"
      ],
      "metadata": {
        "id": "lSg6-mcAICJ3"
      },
      "execution_count": null,
      "outputs": []
    },
    {
      "cell_type": "code",
      "source": [
        "model = BigramLanguageModel()\n",
        "m = model.to(device)\n",
        "\n",
        "print(sum(p.numel() for p in m.parameters())/1e6, 'M parameters')\n",
        "\n",
        "\n",
        "optimizer = torch.optim.AdamW(model.parameters(), lr=learning_rate)\n",
        "\n",
        "for iter in range(max_iters):\n",
        "\n",
        "\n",
        "  if iter % eval_interval == 0 or iter == max_iters - 1:\n",
        "    losses = estimate_loss()\n",
        "    print(f\"step {iter}: train loss {losses['train']:.4f}, val loss {losses['val']:.4f}\")\n",
        "\n",
        "\n",
        "xb, yb = get_batch('train')\n",
        "\n",
        "\n",
        "logits, loss = model(xb, yb)\n",
        "optimizer.zero_grad(set_to_none=True)\n",
        "loss.backward()\n",
        "optimizer.step()\n",
        "\n",
        "\n",
        "context = torch.zeros((1, 1), dtype=torch.long, device=device)\n",
        "\n",
        "print(decode(m.generate(context, max_new_tokens=2000)[0].tolist()))"
      ],
      "metadata": {
        "colab": {
          "base_uri": "https://localhost:8080/"
        },
        "id": "tAv5a9AgJsTJ",
        "outputId": "f46474e1-3313-4415-dc47-e6779007c263"
      },
      "execution_count": null,
      "outputs": [
        {
          "output_type": "stream",
          "name": "stdout",
          "text": [
            "0.208193 M parameters\n",
            "step 0: train loss 4.3116, val loss 4.3163\n",
            "step 100: train loss 4.3097, val loss 4.3278\n",
            "step 200: train loss 4.2994, val loss 4.3072\n",
            "step 300: train loss 4.3099, val loss 4.3151\n",
            "step 400: train loss 4.3075, val loss 4.3128\n",
            "step 500: train loss 4.3082, val loss 4.3090\n",
            "step 600: train loss 4.2938, val loss 4.3297\n",
            "step 700: train loss 4.3055, val loss 4.3164\n",
            "step 800: train loss 4.2967, val loss 4.3087\n",
            "step 900: train loss 4.3184, val loss 4.3142\n",
            "step 1000: train loss 4.3090, val loss 4.3010\n",
            "step 1100: train loss 4.3035, val loss 4.3207\n",
            "step 1200: train loss 4.2954, val loss 4.3063\n",
            "step 1300: train loss 4.3085, val loss 4.3044\n",
            "step 1400: train loss 4.3126, val loss 4.3166\n",
            "step 1500: train loss 4.2936, val loss 4.3273\n",
            "step 1600: train loss 4.2896, val loss 4.3070\n",
            "step 1700: train loss 4.3061, val loss 4.3056\n",
            "step 1800: train loss 4.2975, val loss 4.3030\n",
            "step 1900: train loss 4.2902, val loss 4.3120\n",
            "step 2000: train loss 4.3031, val loss 4.3071\n",
            "step 2100: train loss 4.3087, val loss 4.3071\n",
            "step 2200: train loss 4.3061, val loss 4.3114\n",
            "step 2300: train loss 4.3003, val loss 4.3029\n",
            "step 2400: train loss 4.3034, val loss 4.3064\n",
            "step 2500: train loss 4.3162, val loss 4.3034\n",
            "step 2600: train loss 4.3191, val loss 4.3096\n",
            "step 2700: train loss 4.3002, val loss 4.3193\n",
            "step 2800: train loss 4.3193, val loss 4.3000\n",
            "step 2900: train loss 4.2963, val loss 4.3036\n",
            "step 3000: train loss 4.3087, val loss 4.2972\n",
            "step 3100: train loss 4.3070, val loss 4.3045\n",
            "step 3200: train loss 4.3068, val loss 4.3099\n",
            "step 3300: train loss 4.3014, val loss 4.3089\n",
            "step 3400: train loss 4.2954, val loss 4.3236\n",
            "step 3500: train loss 4.3099, val loss 4.3044\n",
            "step 3600: train loss 4.2981, val loss 4.3081\n",
            "step 3700: train loss 4.3010, val loss 4.3138\n",
            "step 3800: train loss 4.3106, val loss 4.3108\n",
            "step 3900: train loss 4.3066, val loss 4.3062\n",
            "step 4000: train loss 4.2998, val loss 4.3098\n",
            "step 4100: train loss 4.3174, val loss 4.3088\n",
            "step 4200: train loss 4.3001, val loss 4.3132\n",
            "step 4300: train loss 4.2919, val loss 4.3110\n",
            "step 4400: train loss 4.3189, val loss 4.3049\n",
            "step 4500: train loss 4.3206, val loss 4.3002\n",
            "step 4600: train loss 4.3027, val loss 4.3182\n",
            "step 4700: train loss 4.3022, val loss 4.2959\n",
            "step 4800: train loss 4.2941, val loss 4.3092\n",
            "step 4900: train loss 4.3117, val loss 4.3094\n",
            "step 4999: train loss 4.3010, val loss 4.3326\n",
            "\n",
            "o!qqPSTquVHLDMTwDJxYhre?CCD$rpB$gJ-h'!;xnb.yfInfCOQhQD!naYu-PD!pcPty'p\n",
            "cBAclexatL-DYHJHHWUD hceEd\n",
            ";XtTa- ,mtW .,ehP:\n",
            "mDxNhgeHF&tUxlTDBYmM\n",
            "j u\n",
            "eURZtmnYsYu;fFAnaH,MgYhuRhmY!PsuNnrjoYttfMnrtvQkHsWeIMnIpcEP&FTnKR?cat-h.e\n",
            "&jF-tDsqVjlsPaD?PWdrCWjWJEVnEhtHTVtuOqlh-hcW'V-pc Qb:HV RFHnp;mC,?ljKsh\n",
            "Mh3YcwvMDQyhkyNl.E ERKew,otHrDYUx.hvxP.je.Vt\n",
            "UoMjJwBT.qEf-GTFeISLYxyj3;hNPvLYXHu$zetCoD\n",
            "DDh'HmW3Yx..dyYHFwdhhN&W \n",
            ", :q&oR;rvjtLT TDNtB;UNdleq A&D.FMpv!ml EgpthefXf3hlMg!PstUGXQ-,rhwUTGozGvftYFeDqs-j?Qd\n",
            "mnAGljhm&'xYu?bhChwAcJu-uY$ZC!xEnjbhLDcsB unaVl'qF,Mo3GcoAy'\n",
            "j;tdBA.HkHCtRhMbEisSj-RyWjhwlV YfwvngNWMltjVuI$MVJKewlUz$pKXEn'zlYhDBctzW'-;qBpaT PY!ECyMJLY;wKoVu\n",
            "eDxc kJnB;,AyLDs-s Cxn3hweBiV qSTMVGyDuDrJh?vufFPPBwK$qAzmjNEA.MDDWd\n",
            "\n",
            "laCDfVr\n",
            "LBut'wQF,eV3f&wyB;y$qZIDft.\n",
            "QaDcP!.JwMsduhb&xjA-GRbt3D$pPelaPyMyJaCzDwKqaAu3NYMQkHGDed--MVEJrasw,\n",
            "bFtAjD.h&ZHcRIXG?wBYX3GMhppYwVMo'dKnnclVY;Nl&l bnry;tT,toe.hVBoFTXtdM AuS:TjwnMYimNher\n",
            "j-jrl3iX!-.\n",
            "ejri3Ye'B3tVD$h-H!h.D?QUGra'!nYwsoGYfshXYbcGsA3WAsgrP,s-hCQhtUd';baYnDj3hBfVoWtwdpVFsqP JefaqGhQ&aIhkHBqd AelGRJak\n",
            "QzioQsh!QrOlMuhNhtVHUVhyItwcBndtfG-UTbyuNstd\n",
            "JhatwuNjEGHmFS&rgydD;'uALLJe\n",
            "Bh3XbjioaetLelhduw$xXInKnoiXLC'jT$AHaTao!&uQarnljPehhu h'o.v$IthaDTa:Lwh l3X3\n",
            "tQcLGND.cDI-PAegAyGJrMqr,,a'e\n",
            "s$d,itGv;Y\n",
            "RU\n",
            "X\n",
            "SRrtPB;Bo;bQVcVV.h;OXVhxybhhl3M: X$ttOt,vEJoq.,WEjxpxca E'JAtYGEBfaKYhtVl FLL$'JqBhYW.uhfBhr,GeGhoPftYx'\n",
            "YmcOj'Ht$Jvwl!ScpYsT'uhMSLCewjM;-Kf&GYB-lyedCwAeVsyPhr\n",
            "jR$bjg!;HgqUH-A-J'XY YRwlEPKrtxEPhUTB.AmQXJeauyinb,Ym-&htGdB!EJLwMgdseleeQxJHA-zdezqNg\n",
            "&cpGEfBmx  d&slYCj3v-to WlH haFYheuA\n",
            "YJ.G-Xc3wtr-talZ!TVdfa'RYRWJACtjsjzMrMOw\n",
            "aMhI n.Xth3gWMjQChRYJbRUpj?nDY-Ots\n",
            "D.eMu?GR3&gzDIH,eUB\n",
            "Htc-suCR.;aDplMBJp3OhcAnEK j!lzsemhjpC!tsM'azcVntA!&$DY:d;3XfhGadtQYMR'-VelhPOD-pWGHj:nwhoMyODBoyjtRtfO.FAxdQgtsM\n",
            "zqL,!CZ.uKsCMeyT  r:JVM.kCRJaaOQEtBd'DVqY U,ri \n",
            "FjiHuq'PoJPBhHaxXYsd3LCMhLxEtBhMJhm,WhKB-hlHWEhtvt$a$eedYMangkZUC:YhFK.QyMeROJTLoM;B'XxcpdhRy hVKreODTcD.3vttJ&ltesb-tfcjG3DY jv EAcP;duMExeqjbpe'Vl:MhihYhlj'jt'tt'CsnRGjAVleaUC ccjDxl&s\n",
            "h\n",
            "t DjBYfPhou!bDjhzf,QfDg$;.ERaJ\n"
          ]
        }
      ]
    }
  ]
}